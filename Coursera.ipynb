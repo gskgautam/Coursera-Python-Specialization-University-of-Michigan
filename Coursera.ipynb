{
  "nbformat": 4,
  "nbformat_minor": 0,
  "metadata": {
    "colab": {
      "provenance": [],
      "authorship_tag": "ABX9TyNEkGgwvE83qjjrI8JzVCh6",
      "include_colab_link": true
    },
    "kernelspec": {
      "name": "python3",
      "display_name": "Python 3"
    },
    "language_info": {
      "name": "python"
    }
  },
  "cells": [
    {
      "cell_type": "markdown",
      "metadata": {
        "id": "view-in-github",
        "colab_type": "text"
      },
      "source": [
        "<a href=\"https://colab.research.google.com/github/gskgautam/Coursera-Python-Specialization-University-of-Michigan/blob/main/Coursera.ipynb\" target=\"_parent\"><img src=\"https://colab.research.google.com/assets/colab-badge.svg\" alt=\"Open In Colab\"/></a>"
      ]
    },
    {
      "cell_type": "code",
      "execution_count": null,
      "metadata": {
        "colab": {
          "base_uri": "https://localhost:8080/"
        },
        "id": "mcvz9mJP_ZqC",
        "outputId": "aefb787f-a19e-459b-c6b1-c707ba328fca"
      },
      "outputs": [
        {
          "output_type": "stream",
          "name": "stdout",
          "text": [
            "Below 2\n"
          ]
        }
      ],
      "source": [
        "x=-2.0\n",
        "if x < 2 :\n",
        "    print('Below 2')\n",
        "elif x >= 2 :\n",
        "     print('Two or more')\n",
        "else :\n",
        "    print('Something else')"
      ]
    },
    {
      "cell_type": "markdown",
      "source": [
        "Write a program to prompt for a score between 0.0 and 1.0. If the score is out of range, print an error. If the score is between 0.0 and 1.0, print a grade using the following table:\n",
        "Score Grade\n",
        ">= 0.9 A\n",
        ">= 0.8 B\n",
        ">= 0.7 C\n",
        ">= 0.6 D\n",
        "< 0.6 F\n",
        "If the user enters a value out of range, print a suitable error message and exit. For the test, enter a score of 0.85."
      ],
      "metadata": {
        "id": "jW3YrRrjEful"
      }
    },
    {
      "cell_type": "code",
      "source": [
        "try:\n",
        "  score = float(input(\"Enter Score: \"))\n",
        "except:\n",
        "  print(\"Score is out of Range. Please enter between 0.0 and 1.0\")\n",
        "\n",
        "if score >= 0.9:\n",
        " print(\"A\")\n",
        "elif score >= 0.8:\n",
        " print(\"B\")\n",
        "elif score >= 0.7:\n",
        " print(\"C\")\n",
        "elif score >= 0.6:\n",
        " print(\"D\")\n",
        "elif score < 0.6:\n",
        " print(\"F\")\n",
        "\n"
      ],
      "metadata": {
        "colab": {
          "base_uri": "https://localhost:8080/"
        },
        "id": "7AFi1trdEcLj",
        "outputId": "538fe560-048a-42f9-a13a-1b825bc32350"
      },
      "execution_count": null,
      "outputs": [
        {
          "output_type": "stream",
          "name": "stdout",
          "text": [
            "Enter Score: 0.85\n",
            "B\n"
          ]
        }
      ]
    },
    {
      "cell_type": "code",
      "source": [
        "def stuff():\n",
        "    print('Hello')\n",
        "    return\n",
        "    print('World')\n",
        "\n",
        "stuff()"
      ],
      "metadata": {
        "colab": {
          "base_uri": "https://localhost:8080/"
        },
        "id": "3rI0yTOR4VMI",
        "outputId": "d6a6878f-98eb-432a-9823-c6696f3cddad"
      },
      "execution_count": null,
      "outputs": [
        {
          "output_type": "stream",
          "name": "stdout",
          "text": [
            "Hello\n"
          ]
        }
      ]
    },
    {
      "cell_type": "code",
      "source": [
        "def addtwo(a, b):\n",
        "    added = a + b\n",
        "    return a\n",
        "\n",
        "x = addtwo(2, 7)\n",
        "print(x)"
      ],
      "metadata": {
        "colab": {
          "base_uri": "https://localhost:8080/"
        },
        "id": "lfrUL8uU4l3d",
        "outputId": "0dc03e4f-37b8-4830-fee8-b27132787cdc"
      },
      "execution_count": null,
      "outputs": [
        {
          "output_type": "stream",
          "name": "stdout",
          "text": [
            "2\n"
          ]
        }
      ]
    },
    {
      "cell_type": "code",
      "source": [
        "def computepay(h, r):\n",
        "  if hrs >=40:\n",
        "    return h * r\n",
        "  elif hrs <=40:\n",
        "    return h * r\n",
        "  else:\n",
        "    print(\"Wrong Input\")\n",
        "\n",
        "hrs = float(input(\"Enter Hours:\"))\n",
        "rate = float(input(\"Enter Rate:\"))\n",
        "print(\"Pay\", computepay(hrs, rate))\n"
      ],
      "metadata": {
        "colab": {
          "base_uri": "https://localhost:8080/"
        },
        "id": "LaUF31xY5z1Y",
        "outputId": "6630f09e-a487-476f-b29d-bb53c74f8002"
      },
      "execution_count": null,
      "outputs": [
        {
          "output_type": "stream",
          "name": "stdout",
          "text": [
            "Enter Hours:47.50\n",
            "Enter Rate:10.50\n",
            "Pay 498.75\n"
          ]
        }
      ]
    },
    {
      "cell_type": "code",
      "source": [
        "tot = 0 \n",
        "for i in [5, 4, 3, 2, 1] :\n",
        "    tot = tot + 1\n",
        "print(tot)"
      ],
      "metadata": {
        "colab": {
          "base_uri": "https://localhost:8080/"
        },
        "id": "8cRyF2bxF_HF",
        "outputId": "d83a1d12-5f67-4b25-c97e-1b021dd04a81"
      },
      "execution_count": null,
      "outputs": [
        {
          "output_type": "stream",
          "name": "stdout",
          "text": [
            "5\n"
          ]
        }
      ]
    },
    {
      "cell_type": "code",
      "source": [
        "largest = None\n",
        "smallest = None\n",
        "while True:\n",
        "    num = input(\"Enter a number: \")\n",
        "    if num == \"done\":\n",
        "      break\n",
        "    try:\n",
        "      nums = int(num)\n",
        "    except:\n",
        "      print(\"Invalid input\")\n",
        "      continue\n",
        "    \n",
        "    if largest is None or nums > largest:\n",
        "      largest = nums \n",
        "    if smallest is None or nums < smallest:\n",
        "      smallest = nums\n",
        "\n",
        "print(\"Maximum is\", largest)\n",
        "print(\"Minimum is\", smallest)"
      ],
      "metadata": {
        "colab": {
          "base_uri": "https://localhost:8080/"
        },
        "id": "CYMliH3XIRKP",
        "outputId": "ae24626f-4357-4f9c-a2ba-d90371d9b9b7"
      },
      "execution_count": null,
      "outputs": [
        {
          "output_type": "stream",
          "name": "stdout",
          "text": [
            "Enter a number: 7\n",
            "Enter a number: 2\n",
            "Enter a number: bob\n",
            "Invalid input\n",
            "Enter a number: 10\n",
            "Enter a number: 4\n",
            "Enter a number: done\n",
            "Maximum is 10\n",
            "Minimum is 2\n"
          ]
        }
      ]
    },
    {
      "cell_type": "code",
      "source": [
        "str1 = \"Hello\"\n",
        "str2 = 'there'\n",
        "bob = str1 + str2\n",
        "print(bob)"
      ],
      "metadata": {
        "colab": {
          "base_uri": "https://localhost:8080/"
        },
        "id": "aSNIFG89Ib32",
        "outputId": "c672bc5a-12de-4d34-e2e8-0595799bd146"
      },
      "execution_count": null,
      "outputs": [
        {
          "output_type": "stream",
          "name": "stdout",
          "text": [
            "Hellothere\n"
          ]
        }
      ]
    },
    {
      "cell_type": "code",
      "source": [
        "print(len('banana')*7)"
      ],
      "metadata": {
        "colab": {
          "base_uri": "https://localhost:8080/"
        },
        "id": "56am1ObEImen",
        "outputId": "23089234-418d-43f2-959b-61717a34cd1b"
      },
      "execution_count": null,
      "outputs": [
        {
          "output_type": "stream",
          "name": "stdout",
          "text": [
            "42\n"
          ]
        }
      ]
    },
    {
      "cell_type": "code",
      "source": [
        "data = 'From stephen.marquard@uct.ac.za Sat Jan  5 09:14:16 2008'\n",
        "pos = data.find('.')\n",
        "print(data[pos:pos+3])"
      ],
      "metadata": {
        "colab": {
          "base_uri": "https://localhost:8080/"
        },
        "id": "DQOS8jCPImrM",
        "outputId": "9c72984c-4811-4278-d8c8-fc808f4e6e6e"
      },
      "execution_count": null,
      "outputs": [
        {
          "output_type": "stream",
          "name": "stdout",
          "text": [
            ".ma\n"
          ]
        }
      ]
    },
    {
      "cell_type": "code",
      "source": [
        "text = \"X-DSPAM-Confidence:    0.8475\"\n",
        "pos = text.find('0')\n",
        "print(float(text[pos:]))"
      ],
      "metadata": {
        "colab": {
          "base_uri": "https://localhost:8080/"
        },
        "id": "aISZgOpkJbmR",
        "outputId": "9008c6b4-e26f-4583-c083-74828dce4418"
      },
      "execution_count": null,
      "outputs": [
        {
          "output_type": "stream",
          "name": "stdout",
          "text": [
            "0.8475\n"
          ]
        }
      ]
    },
    {
      "cell_type": "code",
      "source": [
        "# Use words.txt as the file name\n",
        "fname = input(\"Enter file name: \")\n",
        "fh = open(fname)\n",
        "for line in fname:\n",
        "    line = line.rstrip()\n",
        "f =  fh.read()\n",
        "print(f.upper())"
      ],
      "metadata": {
        "id": "k-_tYPc26LOC"
      },
      "execution_count": null,
      "outputs": []
    },
    {
      "cell_type": "code",
      "source": [
        "# Use the file name mbox-short.txt as the file name\n",
        "fname = input(\"Enter file name: \")\n",
        "fh = open(fname)\n",
        "count = 0\n",
        "total = 0\n",
        "for line in fh:\n",
        "    if not line.startswith(\"X-DSPAM-Confidence:\"):\n",
        "        continue\n",
        "    count =  count + 1\n",
        "    line = float(line[19:].strip())\n",
        "    total = total + line\n",
        "    #total = count\n",
        "if count > 0:\n",
        "    average = total / count\n",
        "else:\n",
        "    average = 0.0\n",
        "\n",
        "print(\"Average spam confidence:\", average)\n"
      ],
      "metadata": {
        "id": "yCwNe1Bx58CF"
      },
      "execution_count": null,
      "outputs": []
    },
    {
      "cell_type": "code",
      "source": [
        "x = list(range(5))\n",
        "print(x)"
      ],
      "metadata": {
        "colab": {
          "base_uri": "https://localhost:8080/"
        },
        "id": "a9S8Zvvl1rdH",
        "outputId": "92b9a909-d1e5-47e8-f7b8-10ff1d01c2f1"
      },
      "execution_count": null,
      "outputs": [
        {
          "output_type": "stream",
          "name": "stdout",
          "text": [
            "[0, 1, 2, 3, 4]\n"
          ]
        }
      ]
    },
    {
      "cell_type": "code",
      "source": [
        "a = [1, 2, 3]\n",
        "b = [4, 5, 6]\n",
        "c = a + b\n",
        "print(len(c))"
      ],
      "metadata": {
        "colab": {
          "base_uri": "https://localhost:8080/"
        },
        "id": "hGh30OKP144c",
        "outputId": "7792778a-73df-4e5b-a8f6-5bf92d1d13d7"
      },
      "execution_count": null,
      "outputs": [
        {
          "output_type": "stream",
          "name": "stdout",
          "text": [
            "6\n"
          ]
        }
      ]
    },
    {
      "cell_type": "code",
      "source": [
        "fname = input(\"Enter file name: \")\n",
        "fh = open(fname)\n",
        "lst = []\n",
        "for line in fh:\n",
        "    words= line.split()\n",
        "    for word in words:\n",
        "        if word not in lst:\n",
        "            lst.append(word)\n",
        "lst.sort()\n",
        "print(lst)"
      ],
      "metadata": {
        "id": "cYg3wz6k9O9h"
      },
      "execution_count": null,
      "outputs": []
    },
    {
      "cell_type": "code",
      "source": [
        "fname = input(\"Enter file name: \")\n",
        "fh = open(fname)\n",
        "count = 0\n",
        "for line in fh:\n",
        "    if line.startswith('From '):\n",
        "        words = line.split()\n",
        "        email = words[1]\n",
        "        print(email)\n",
        "        count = count+1\n",
        "print(\"There were\", count, \"lines in the file with From as the first word\")"
      ],
      "metadata": {
        "id": "lPsx2viLBamx"
      },
      "execution_count": null,
      "outputs": []
    },
    {
      "cell_type": "code",
      "source": [
        "stuff = dict()\n",
        "print(stuff['candy'])"
      ],
      "metadata": {
        "colab": {
          "base_uri": "https://localhost:8080/",
          "height": 183
        },
        "id": "jUhmUKDhC3kL",
        "outputId": "00208545-7bbe-4c49-d0b9-8a71b0ee0d46"
      },
      "execution_count": null,
      "outputs": [
        {
          "output_type": "error",
          "ename": "KeyError",
          "evalue": "ignored",
          "traceback": [
            "\u001b[0;31m---------------------------------------------------------------------------\u001b[0m",
            "\u001b[0;31mKeyError\u001b[0m                                  Traceback (most recent call last)",
            "\u001b[0;32m<ipython-input-1-928189c0281a>\u001b[0m in \u001b[0;36m<cell line: 2>\u001b[0;34m()\u001b[0m\n\u001b[1;32m      1\u001b[0m \u001b[0mstuff\u001b[0m \u001b[0;34m=\u001b[0m \u001b[0mdict\u001b[0m\u001b[0;34m(\u001b[0m\u001b[0;34m)\u001b[0m\u001b[0;34m\u001b[0m\u001b[0;34m\u001b[0m\u001b[0m\n\u001b[0;32m----> 2\u001b[0;31m \u001b[0mprint\u001b[0m\u001b[0;34m(\u001b[0m\u001b[0mstuff\u001b[0m\u001b[0;34m[\u001b[0m\u001b[0;34m'candy'\u001b[0m\u001b[0;34m]\u001b[0m\u001b[0;34m)\u001b[0m\u001b[0;34m\u001b[0m\u001b[0;34m\u001b[0m\u001b[0m\n\u001b[0m",
            "\u001b[0;31mKeyError\u001b[0m: 'candy'"
          ]
        }
      ]
    },
    {
      "cell_type": "code",
      "source": [
        "stuff = dict()\n",
        "print(stuff.get('candy',-1))"
      ],
      "metadata": {
        "colab": {
          "base_uri": "https://localhost:8080/"
        },
        "id": "ksHjSKvWDDNh",
        "outputId": "a2c48001-7c00-41f0-e644-ac4a0afccc9e"
      },
      "execution_count": null,
      "outputs": [
        {
          "output_type": "stream",
          "name": "stdout",
          "text": [
            "-1\n"
          ]
        }
      ]
    },
    {
      "cell_type": "code",
      "source": [
        "name = input(\"Enter file:\")\n",
        "handle = open(name)\n",
        "counts = dict()\n",
        "for line in handle:\n",
        "    if line.startswith('From'):\n",
        "        words = line.split()\n",
        "        email = words[1]\n",
        "        counts[email] = counts.get(email, 0) + 1\n",
        "\n",
        "big = None\n",
        "bigc = None\n",
        "for email, count in counts.items():\n",
        "    if bigc is None or count > bigc:\n",
        "        big = email\n",
        "        bigc = count\n",
        "        \n",
        "print(big, bigc)\n"
      ],
      "metadata": {
        "id": "PR6csBotKtd_"
      },
      "execution_count": null,
      "outputs": []
    },
    {
      "cell_type": "code",
      "source": [
        "x = { 'chuck' : 1 , 'fred' : 42, 'jan': 100}\n",
        "y = x.items()\n",
        "print(y)"
      ],
      "metadata": {
        "colab": {
          "base_uri": "https://localhost:8080/"
        },
        "id": "b2G9PNNZHHgk",
        "outputId": "c6e00df9-6c76-421f-9513-f064952079fd"
      },
      "execution_count": null,
      "outputs": [
        {
          "output_type": "stream",
          "name": "stdout",
          "text": [
            "dict_items([('chuck', 1), ('fred', 42), ('jan', 100)])\n"
          ]
        }
      ]
    },
    {
      "cell_type": "code",
      "source": [
        "name = input(\"Enter file:\")\n",
        "if len(name) < 1:\n",
        "    name = \"mbox-short.txt\"\n",
        "handle = open(name)\n",
        "counts = dict()\n",
        "for line in handle:\n",
        "    if line.startswith('From '):\n",
        "        words = line.split()\n",
        "        time = words[5]\n",
        "        hour = time.split(':')[0]\n",
        "        counts[hour] = counts.get(hour, 0) + 1\n",
        "lst = sorted(counts.items())\n",
        "for hour, count in lst:\n",
        "    print(hour, count)\n"
      ],
      "metadata": {
        "id": "aTnNyQ4iOFKh"
      },
      "execution_count": null,
      "outputs": []
    },
    {
      "cell_type": "code",
      "source": [
        "import re\n",
        "name = input(\"Enter the name of the file\")\n",
        "handle = open(name)\n",
        "numlist = []\n",
        "for line in handle:\n",
        "  line = line.rstrip()\n",
        "  numbers = re.findall('[0-9]+', line)\n",
        "  for num in numbers:\n",
        "        numlist.append(int(num))\n",
        "\n",
        "print(sum(numlist))"
      ],
      "metadata": {
        "colab": {
          "base_uri": "https://localhost:8080/"
        },
        "id": "D69CxFeKGeNq",
        "outputId": "36fd65e0-a262-41ba-ae7d-663b38cd2e87"
      },
      "execution_count": null,
      "outputs": [
        {
          "output_type": "stream",
          "name": "stdout",
          "text": [
            "Enter the name of the fileregex_sum_1776591.txt\n",
            "322582\n"
          ]
        }
      ]
    },
    {
      "cell_type": "code",
      "source": [
        "import socket\n",
        "\n",
        "mysock = socket.socket(socket.AF_INET, socket.SOCK_STREAM)\n",
        "mysock.connect(('data.pr4e.org', 80))\n",
        "cmd = 'GET http://data.pr4e.org/intro-short.txt HTTP/1.0\\r\\n\\r\\n'.encode()\n",
        "mysock.send(cmd)\n",
        "\n",
        "while True:\n",
        "    data = mysock.recv(512)\n",
        "    if len(data) < 1:\n",
        "        break\n",
        "    print(data.decode(),end='')\n",
        "\n",
        "mysock.close()"
      ],
      "metadata": {
        "id": "VEm-I3RIfXGG",
        "outputId": "19ae8fc2-2b07-4f81-ecf5-33bc3e826897",
        "colab": {
          "base_uri": "https://localhost:8080/"
        }
      },
      "execution_count": null,
      "outputs": [
        {
          "output_type": "stream",
          "name": "stdout",
          "text": [
            "HTTP/1.1 200 OK\r\n",
            "Date: Tue, 09 May 2023 17:09:58 GMT\r\n",
            "Server: Apache/2.4.18 (Ubuntu)\r\n",
            "Last-Modified: Sat, 13 May 2017 11:22:22 GMT\r\n",
            "ETag: \"1d3-54f6609240717\"\r\n",
            "Accept-Ranges: bytes\r\n",
            "Content-Length: 467\r\n",
            "Cache-Control: max-age=0, no-cache, no-store, must-revalidate\r\n",
            "Pragma: no-cache\r\n",
            "Expires: Wed, 11 Jan 1984 05:00:00 GMT\r\n",
            "Connection: close\r\n",
            "Content-Type: text/plain\r\n",
            "\r\n",
            "Why should you learn to write programs?\n",
            "\n",
            "Writing programs (or programming) is a very creative \n",
            "and rewarding activity.  You can write programs for \n",
            "many reasons, ranging from making your living to solving\n",
            "a difficult data analysis problem to having fun to helping\n",
            "someone else solve a problem.  This book assumes that \n",
            "everyone needs to know how to program, and that once \n",
            "you know how to program you will figure out what you want \n",
            "to do with your newfound skills.  \n"
          ]
        }
      ]
    },
    {
      "cell_type": "code",
      "source": [
        "pip install beautifulsoup4"
      ],
      "metadata": {
        "colab": {
          "base_uri": "https://localhost:8080/"
        },
        "id": "dUXSNGR6OXqO",
        "outputId": "97a27794-5beb-4a51-d204-d83c03836498"
      },
      "execution_count": null,
      "outputs": [
        {
          "output_type": "stream",
          "name": "stdout",
          "text": [
            "Looking in indexes: https://pypi.org/simple, https://us-python.pkg.dev/colab-wheels/public/simple/\n",
            "Requirement already satisfied: beautifulsoup4 in /usr/local/lib/python3.10/dist-packages (4.11.2)\n",
            "Requirement already satisfied: soupsieve>1.2 in /usr/local/lib/python3.10/dist-packages (from beautifulsoup4) (2.4.1)\n"
          ]
        }
      ]
    },
    {
      "cell_type": "code",
      "source": [
        "from urllib.request import urlopen\n",
        "from bs4 import BeautifulSoup\n",
        "import ssl\n",
        "\n",
        "# Ignore SSL certificate errors\n",
        "ctx = ssl.create_default_context()\n",
        "ctx.check_hostname = False\n",
        "ctx.verify_mode = ssl.CERT_NONE\n",
        "\n",
        "url = input('Enter - ')\n",
        "html = urlopen(url, context=ctx).read()\n",
        "soup = BeautifulSoup(html, \"html.parser\")\n",
        "\n",
        "# Retrieve all of the span tags\n",
        "tags = soup('span')\n",
        "\n",
        "total = 0\n",
        "\n",
        "for tag in tags:\n",
        "    total += int(tag.contents[0])\n",
        "\n",
        "print(total)\n"
      ],
      "metadata": {
        "colab": {
          "base_uri": "https://localhost:8080/"
        },
        "id": "rhUGHD7MOOvT",
        "outputId": "8d4a1813-4eea-42b5-c157-fd6ba7a55540"
      },
      "execution_count": null,
      "outputs": [
        {
          "output_type": "stream",
          "name": "stdout",
          "text": [
            "Enter -  http://py4e-data.dr-chuck.net/comments_1776593.html\n",
            "2371\n"
          ]
        }
      ]
    },
    {
      "cell_type": "code",
      "source": [
        "import urllib.request, urllib.parse, urllib.error\n",
        "from bs4 import BeautifulSoup\n",
        "import ssl\n",
        "\n",
        "# Ignore SSL certificate errors\n",
        "ctx = ssl.create_default_context()\n",
        "ctx.check_hostname = False\n",
        "ctx.verify_mode = ssl.CERT_NONE\n",
        "\n",
        "url = input('Enter - ')\n",
        "count = int(input('Enter count: '))\n",
        "position = int(input('Enter position: '))\n",
        "\n",
        "# Repeat the process count times\n",
        "for i in range(count):\n",
        "    html = urllib.request.urlopen(url, context=ctx).read()\n",
        "    soup = BeautifulSoup(html, 'html.parser')\n",
        "    tags = soup('a')\n",
        "    # Retrieve the link at the specified position\n",
        "    url = tags[position-1].get('href', None)\n",
        "    print('Retrieving:', url)\n",
        "\n",
        "# Print the content of the last link\n",
        "print(tags[position-1].contents[0])\n"
      ],
      "metadata": {
        "colab": {
          "base_uri": "https://localhost:8080/"
        },
        "id": "ZeffIbBxTXBX",
        "outputId": "b30c9cef-3716-49df-e84e-0a44e1379d1d"
      },
      "execution_count": null,
      "outputs": [
        {
          "output_type": "stream",
          "name": "stdout",
          "text": [
            "Enter - http://py4e-data.dr-chuck.net/known_by_Christoph.html\n",
            "Enter count: 7\n",
            "Enter position: 18\n",
            "Retrieving: http://py4e-data.dr-chuck.net/known_by_Laya.html\n",
            "Retrieving: http://py4e-data.dr-chuck.net/known_by_Haiden.html\n",
            "Retrieving: http://py4e-data.dr-chuck.net/known_by_Ayrton.html\n",
            "Retrieving: http://py4e-data.dr-chuck.net/known_by_Leilan.html\n",
            "Retrieving: http://py4e-data.dr-chuck.net/known_by_Thorben.html\n",
            "Retrieving: http://py4e-data.dr-chuck.net/known_by_Jahy.html\n",
            "Retrieving: http://py4e-data.dr-chuck.net/known_by_Micaila.html\n",
            "Micaila\n"
          ]
        }
      ]
    },
    {
      "cell_type": "code",
      "source": [
        "import urllib.request, urllib.parse, urllib.error\n",
        "import xml.etree.ElementTree as ET\n",
        "\n",
        "url = input('Enter URL: ')\n",
        "uh = urllib.request.urlopen(url)\n",
        "data = uh.read()\n",
        "\n",
        "tree = ET.fromstring(data)\n",
        "counts = tree.findall('.//count')\n",
        "sum = 0\n",
        "\n",
        "for count in counts:\n",
        "    sum += int(count.text)\n",
        "\n",
        "print(sum)\n"
      ],
      "metadata": {
        "colab": {
          "base_uri": "https://localhost:8080/"
        },
        "id": "N5pKMF1Hl6Dk",
        "outputId": "803709dc-daaa-45a8-dc20-2623357dea1f"
      },
      "execution_count": null,
      "outputs": [
        {
          "output_type": "stream",
          "name": "stdout",
          "text": [
            "Enter URL:  http://py4e-data.dr-chuck.net/comments_1776595.xml\n",
            "2346\n"
          ]
        }
      ]
    },
    {
      "cell_type": "code",
      "source": [
        "import urllib.request, urllib.parse, urllib.error\n",
        "import json\n",
        "\n",
        "url = input('Enter URL: ')\n",
        "uh = urllib.request.urlopen(url)\n",
        "data = uh.read()\n",
        "info = json.loads(data)\n",
        "sum = 0\n",
        "#counts = len(info)\n",
        "for item in info['comments']:\n",
        "    sum += item['count']\n",
        "\n",
        "print(sum)\n"
      ],
      "metadata": {
        "colab": {
          "base_uri": "https://localhost:8080/"
        },
        "id": "MbNQgyMNVchd",
        "outputId": "d181019b-1a4b-4e44-bfdf-d10c3fddfa75"
      },
      "execution_count": null,
      "outputs": [
        {
          "output_type": "stream",
          "name": "stdout",
          "text": [
            "Enter URL:  http://py4e-data.dr-chuck.net/comments_1776596.json\n",
            "2353\n"
          ]
        }
      ]
    },
    {
      "cell_type": "code",
      "source": [
        "import urllib.request, urllib.parse, urllib.error\n",
        "import json\n",
        "import ssl\n",
        "\n",
        "api_key = False\n",
        "# If you have a Google Places API key, enter it here\n",
        "# api_key = 'AIzaSy___IDByT70'\n",
        "# https://developers.google.com/maps/documentation/geocoding/intro\n",
        "\n",
        "if api_key is False:\n",
        "    api_key = 42\n",
        "    serviceurl = 'http://py4e-data.dr-chuck.net/json?'\n",
        "else :\n",
        "    serviceurl = 'https://maps.googleapis.com/maps/api/geocode/json?'\n",
        "\n",
        "# Ignore SSL certificate errors\n",
        "ctx = ssl.create_default_context()\n",
        "ctx.check_hostname = False\n",
        "ctx.verify_mode = ssl.CERT_NONE\n",
        "\n",
        "while True:\n",
        "    address = input('Enter location: ')\n",
        "    if len(address) < 1: break\n",
        "\n",
        "    parms = dict()\n",
        "    parms['address'] = address\n",
        "    if api_key is not False: parms['key'] = api_key\n",
        "    url = serviceurl + urllib.parse.urlencode(parms)\n",
        "\n",
        "    print('Retrieving', url)\n",
        "    uh = urllib.request.urlopen(url, context=ctx)\n",
        "    data = uh.read().decode()\n",
        "    print('Retrieved', len(data), 'characters')\n",
        "\n",
        "    try:\n",
        "        js = json.loads(data)\n",
        "    except:\n",
        "        js = None\n",
        "\n",
        "    if not js or 'status' not in js or js['status'] != 'OK':\n",
        "        print('==== Failure To Retrieve ====')\n",
        "        print(data)\n",
        "        continue\n",
        "\n",
        "    #print(json.dumps(js, indent=4))\n",
        "\n",
        "    place_id = js['results'][0]['place_id']\n",
        "    print('Place ID:', place_id)\n"
      ],
      "metadata": {
        "colab": {
          "base_uri": "https://localhost:8080/",
          "height": 519
        },
        "id": "s2sDhd2gZxmr",
        "outputId": "5880c619-ea06-4c82-8fb5-8612d6fb2546"
      },
      "execution_count": null,
      "outputs": [
        {
          "output_type": "stream",
          "name": "stdout",
          "text": [
            "Enter location: South Federal University\n",
            "Retrieving http://py4e-data.dr-chuck.net/json?address=South+Federal+University&key=42\n",
            "Retrieved 2443 characters\n",
            "Place ID: ChIJNeHD4p-540AR2Q0_ZjwmKJ8\n",
            "Enter location: University of Texas\n",
            "Retrieving http://py4e-data.dr-chuck.net/json?address=University+of+Texas&key=42\n",
            "Retrieved 1798 characters\n",
            "Place ID: ChIJt8-EJZu1RIYR3iFKF0_uMYE\n"
          ]
        },
        {
          "output_type": "error",
          "ename": "KeyboardInterrupt",
          "evalue": "ignored",
          "traceback": [
            "\u001b[0;31m---------------------------------------------------------------------------\u001b[0m",
            "\u001b[0;31mKeyboardInterrupt\u001b[0m                         Traceback (most recent call last)",
            "\u001b[0;32m<ipython-input-15-89c93ae292f9>\u001b[0m in \u001b[0;36m<cell line: 21>\u001b[0;34m()\u001b[0m\n\u001b[1;32m     20\u001b[0m \u001b[0;34m\u001b[0m\u001b[0m\n\u001b[1;32m     21\u001b[0m \u001b[0;32mwhile\u001b[0m \u001b[0;32mTrue\u001b[0m\u001b[0;34m:\u001b[0m\u001b[0;34m\u001b[0m\u001b[0;34m\u001b[0m\u001b[0m\n\u001b[0;32m---> 22\u001b[0;31m     \u001b[0maddress\u001b[0m \u001b[0;34m=\u001b[0m \u001b[0minput\u001b[0m\u001b[0;34m(\u001b[0m\u001b[0;34m'Enter location: '\u001b[0m\u001b[0;34m)\u001b[0m\u001b[0;34m\u001b[0m\u001b[0;34m\u001b[0m\u001b[0m\n\u001b[0m\u001b[1;32m     23\u001b[0m     \u001b[0;32mif\u001b[0m \u001b[0mlen\u001b[0m\u001b[0;34m(\u001b[0m\u001b[0maddress\u001b[0m\u001b[0;34m)\u001b[0m \u001b[0;34m<\u001b[0m \u001b[0;36m1\u001b[0m\u001b[0;34m:\u001b[0m \u001b[0;32mbreak\u001b[0m\u001b[0;34m\u001b[0m\u001b[0;34m\u001b[0m\u001b[0m\n\u001b[1;32m     24\u001b[0m \u001b[0;34m\u001b[0m\u001b[0m\n",
            "\u001b[0;32m/usr/local/lib/python3.10/dist-packages/ipykernel/kernelbase.py\u001b[0m in \u001b[0;36mraw_input\u001b[0;34m(self, prompt)\u001b[0m\n\u001b[1;32m    849\u001b[0m                 \u001b[0;34m\"raw_input was called, but this frontend does not support input requests.\"\u001b[0m\u001b[0;34m\u001b[0m\u001b[0;34m\u001b[0m\u001b[0m\n\u001b[1;32m    850\u001b[0m             )\n\u001b[0;32m--> 851\u001b[0;31m         return self._input_request(str(prompt),\n\u001b[0m\u001b[1;32m    852\u001b[0m             \u001b[0mself\u001b[0m\u001b[0;34m.\u001b[0m\u001b[0m_parent_ident\u001b[0m\u001b[0;34m,\u001b[0m\u001b[0;34m\u001b[0m\u001b[0;34m\u001b[0m\u001b[0m\n\u001b[1;32m    853\u001b[0m             \u001b[0mself\u001b[0m\u001b[0;34m.\u001b[0m\u001b[0m_parent_header\u001b[0m\u001b[0;34m,\u001b[0m\u001b[0;34m\u001b[0m\u001b[0;34m\u001b[0m\u001b[0m\n",
            "\u001b[0;32m/usr/local/lib/python3.10/dist-packages/ipykernel/kernelbase.py\u001b[0m in \u001b[0;36m_input_request\u001b[0;34m(self, prompt, ident, parent, password)\u001b[0m\n\u001b[1;32m    893\u001b[0m             \u001b[0;32mexcept\u001b[0m \u001b[0mKeyboardInterrupt\u001b[0m\u001b[0;34m:\u001b[0m\u001b[0;34m\u001b[0m\u001b[0;34m\u001b[0m\u001b[0m\n\u001b[1;32m    894\u001b[0m                 \u001b[0;31m# re-raise KeyboardInterrupt, to truncate traceback\u001b[0m\u001b[0;34m\u001b[0m\u001b[0;34m\u001b[0m\u001b[0m\n\u001b[0;32m--> 895\u001b[0;31m                 \u001b[0;32mraise\u001b[0m \u001b[0mKeyboardInterrupt\u001b[0m\u001b[0;34m(\u001b[0m\u001b[0;34m\"Interrupted by user\"\u001b[0m\u001b[0;34m)\u001b[0m \u001b[0;32mfrom\u001b[0m \u001b[0;32mNone\u001b[0m\u001b[0;34m\u001b[0m\u001b[0;34m\u001b[0m\u001b[0m\n\u001b[0m\u001b[1;32m    896\u001b[0m             \u001b[0;32mexcept\u001b[0m \u001b[0mException\u001b[0m \u001b[0;32mas\u001b[0m \u001b[0me\u001b[0m\u001b[0;34m:\u001b[0m\u001b[0;34m\u001b[0m\u001b[0;34m\u001b[0m\u001b[0m\n\u001b[1;32m    897\u001b[0m                 \u001b[0mself\u001b[0m\u001b[0;34m.\u001b[0m\u001b[0mlog\u001b[0m\u001b[0;34m.\u001b[0m\u001b[0mwarning\u001b[0m\u001b[0;34m(\u001b[0m\u001b[0;34m\"Invalid Message:\"\u001b[0m\u001b[0;34m,\u001b[0m \u001b[0mexc_info\u001b[0m\u001b[0;34m=\u001b[0m\u001b[0;32mTrue\u001b[0m\u001b[0;34m)\u001b[0m\u001b[0;34m\u001b[0m\u001b[0;34m\u001b[0m\u001b[0m\n",
            "\u001b[0;31mKeyboardInterrupt\u001b[0m: Interrupted by user"
          ]
        }
      ]
    },
    {
      "cell_type": "code",
      "source": [
        "import sqlite3\n",
        "\n",
        "conn = sqlite3.connect('orgdb.sqlite')\n",
        "cur = conn.cursor()\n",
        "\n",
        "cur.execute('DROP TABLE IF EXISTS Counts')\n",
        "\n",
        "cur.execute('''\n",
        "CREATE TABLE Counts (org TEXT, count INTEGER)''')\n",
        "\n",
        "fname = input('Enter file name: ')\n",
        "if len(fname) < 1:\n",
        "    fname = 'mbox-short.txt'\n",
        "fh = open(fname)\n",
        "\n",
        "for line in fh:\n",
        "    if not line.startswith('From: '):\n",
        "        continue\n",
        "    pieces = line.split()\n",
        "    email = pieces[1]\n",
        "    domain = email.split('@')[1]  # Extract the domain from the email address\n",
        "    cur.execute('SELECT count FROM Counts WHERE org = ? ', (domain,))\n",
        "    row = cur.fetchone()\n",
        "    if row is None:\n",
        "        cur.execute('''INSERT INTO Counts (org, count)\n",
        "                    VALUES (?, 1)''', (domain,))\n",
        "    else:\n",
        "        cur.execute('UPDATE Counts SET count = count + 1 WHERE org = ?', (domain,))\n",
        "conn.commit()\n",
        "\n",
        "sqlstr = 'SELECT org, count FROM Counts WHERE count = 536'\n",
        "\n",
        "for row in cur.execute(sqlstr):\n",
        "    print(str(row[0]), row[1])\n",
        "\n",
        "cur.close()\n"
      ],
      "metadata": {
        "colab": {
          "base_uri": "https://localhost:8080/"
        },
        "id": "qIzmShFu8mab",
        "outputId": "43db3490-a262-4611-df5b-661792521d7d"
      },
      "execution_count": null,
      "outputs": [
        {
          "output_type": "stream",
          "name": "stdout",
          "text": [
            "Enter file name: mbox.txt\n",
            "iupui.edu 536\n"
          ]
        }
      ]
    },
    {
      "cell_type": "code",
      "source": [
        "import sqlite3\n",
        "import xml.etree.ElementTree as ET\n",
        "\n",
        "\n",
        "#Function that we'll use to find the content of a specific field.\n",
        "def find_field(track, wanted_field):\n",
        "    \"\"\"This function gets two parameters: track, a dictionary containing all\n",
        "    the XML tags of a certain song, and wanted_field, a string representing the\n",
        "    title of the tag we want to obtain. \n",
        "\n",
        "    It works by finding a key tag with the text {wanted_field}, and\n",
        "    returning the content of the following tag. If wanted_field doesn't \n",
        "    match any tag, it returns a False\"\"\"\n",
        "\n",
        "    #Variable we'll use to indicate when we've found wanted_field\n",
        "    found = False\n",
        "    \n",
        "    for tag in track:\n",
        "        if not found:\n",
        "            #Looking for the wanted field\n",
        "            if(tag.tag == \"key\" and tag.text == wanted_field):\n",
        "                found = True\n",
        "        else:\n",
        "            #After founding it, we return the content of the following\n",
        "            #tag (the one with its value)\n",
        "            return tag.text\n",
        "\n",
        "    return False\n",
        "\n",
        "\n",
        "\n",
        "#PART 1: PREPARING THE DATABASE\n",
        "#Connecting to the file in which we want to store our db\n",
        "conn = sqlite3.connect('tracks.sqlite')\n",
        "cur = conn.cursor()\n",
        "\n",
        "#Getting sure it is empty\n",
        "#We can use \"executescript\" to execute several statements at the same time\n",
        "cur.executescript(\"\"\"\n",
        "    DROP TABLE IF EXISTS Artist;\n",
        "   \n",
        "    DROP TABLE IF EXISTS Album; \n",
        "\n",
        "    DROP TABLE IF EXISTS Genre;\n",
        "\n",
        "    DROP TABLE IF EXISTS Track\n",
        "    \"\"\")\n",
        "\n",
        "#Creating it\n",
        "cur.executescript(''' CREATE TABLE Artist (\n",
        "    id  INTEGER NOT NULL PRIMARY KEY AUTOINCREMENT UNIQUE,\n",
        "    name    TEXT UNIQUE\n",
        ");\n",
        "\n",
        "CREATE TABLE Genre (\n",
        "    id  INTEGER NOT NULL PRIMARY KEY AUTOINCREMENT UNIQUE,\n",
        "    name    TEXT UNIQUE\n",
        ");\n",
        "\n",
        "CREATE TABLE Album (\n",
        "    id  INTEGER NOT NULL PRIMARY KEY AUTOINCREMENT UNIQUE,\n",
        "    artist_id  INTEGER,\n",
        "    title   TEXT UNIQUE\n",
        ");\n",
        "\n",
        "CREATE TABLE Track (\n",
        "    id  INTEGER NOT NULL PRIMARY KEY \n",
        "        AUTOINCREMENT UNIQUE,\n",
        "    title TEXT  UNIQUE,\n",
        "    album_id  INTEGER,\n",
        "    genre_id  INTEGER,\n",
        "    len INTEGER, rating INTEGER, count INTEGER\n",
        ");\n",
        "''')\n",
        "\n",
        "\n",
        "#PART 2: INSERTING THE DATA\n",
        "#Getting the data and parsing it\n",
        "data_source = open(\"/content/Library.xml\")\n",
        "data = data_source.read()\n",
        "xml_data = ET.fromstring(data)\n",
        "\n",
        "#Obtaining every tag with track data\n",
        "tracks_data = xml_data.findall(\"dict/dict/dict\")\n",
        "\n",
        "#Getting the values of the fields we'll insert\n",
        "for track in tracks_data:\n",
        "    title = find_field(track, \"Name\")\n",
        "    artist = find_field(track, \"Artist\")\n",
        "    genre = find_field(track, \"Genre\")\n",
        "    album = find_field(track, \"Album\")\n",
        "    length = find_field(track, \"Total Time\")\n",
        "    count = find_field(track, \"Play Count\")\n",
        "    rating = find_field(track, \"Rating\")\n",
        "\n",
        "    #Artist\n",
        "    if (artist): #If it's a filled string, != False\n",
        "        #If the value hasn't been introduced yet and exists, we'll insert it\n",
        "        artist_statement = \"\"\"INSERT INTO Artist(name) SELECT ? WHERE NOT EXISTS \n",
        "            (SELECT * FROM Artist WHERE name = ?)\"\"\"\n",
        "        SQLparams = (artist, artist) #Params needed for completing the statement\n",
        "        cur.execute(artist_statement, SQLparams)\n",
        "\n",
        "    #Genre\n",
        "    if (genre): #If it's a filled string, != False\n",
        "        #If the value hasn't been introduced yet and exists, we'll insert it\n",
        "        genre_statement = \"\"\"INSERT INTO Genre(name) SELECT ? WHERE NOT EXISTS \n",
        "            (SELECT * FROM Genre WHERE name = ?)\"\"\"\n",
        "        SQLparams = (genre, genre)\n",
        "        cur.execute(genre_statement, SQLparams)\n",
        "\n",
        "    #Album\n",
        "    if (album): #If it's a filled string, != False\n",
        "        #First of all, we'll get the artist id\n",
        "        artistID_statement = \"SELECT id from Artist WHERE name = ?\"\n",
        "        cur.execute(artistID_statement, (artist, ))\n",
        "        #.fetchone() returns a one-element tuple, and we want its content\n",
        "        artist_id = cur.fetchone()[0] \n",
        "\n",
        "\n",
        "        #Now we're going to insert the data\n",
        "        album_statement = \"\"\"INSERT INTO Album(title, artist_id) \n",
        "            SELECT ?, ? WHERE NOT EXISTS (SELECT * FROM Album WHERE title = ?)\"\"\"\n",
        "        SQLparams = (album, artist_id, album)\n",
        "        cur.execute(album_statement, SQLparams)\n",
        "\n",
        "    #Track\n",
        "    if (title): #If it's a filled string, != False\n",
        "        #Obtaining genre_id\n",
        "        genreID_statement = \"SELECT id from Genre WHERE name = ?\"\n",
        "        cur.execute(genreID_statement, (genre, ))\n",
        "        try:\n",
        "            genre_id = cur.fetchone()[0]\n",
        "        except TypeError:\n",
        "            genre_id = 0\n",
        "        #Obtaining album_id \n",
        "        albumID_statement = \"SELECT id from Album WHERE title = ?\"\n",
        "        cur.execute(albumID_statement, (album, ))\n",
        "        try:\n",
        "            album_id = cur.fetchone()[0]\n",
        "        except TypeError:\n",
        "            album_id = 0\n",
        "\n",
        "        #Inserting data\n",
        "        track_statement = \"\"\"INSERT INTO Track(title, album_id, genre_id, len,\n",
        "            rating, count) SELECT ?, ?, ?, ?, ?, ?\n",
        "                WHERE NOT EXISTS (SELECT * FROM Track WHERE title = ?)\"\"\"\n",
        "        SQLparams = (title, album_id, genre_id, length, rating, count, title)\n",
        "        cur.execute(track_statement, SQLparams)\n",
        "\n",
        "    \n",
        "conn.commit()\n",
        "cur.close()"
      ],
      "metadata": {
        "id": "hpWj-lm4gIva"
      },
      "execution_count": null,
      "outputs": []
    },
    {
      "cell_type": "code",
      "source": [
        "import json\n",
        "import sqlite3\n",
        "\n",
        "conn = sqlite3.connect('rosterdb.sqlite')\n",
        "cur = conn.cursor()\n",
        "\n",
        "# Do some setup\n",
        "cur.executescript('''\n",
        "DROP TABLE IF EXISTS User;\n",
        "DROP TABLE IF EXISTS Member;\n",
        "DROP TABLE IF EXISTS Course;\n",
        "\n",
        "CREATE TABLE User (\n",
        "    id     INTEGER NOT NULL PRIMARY KEY AUTOINCREMENT UNIQUE,\n",
        "    name   TEXT UNIQUE\n",
        ");\n",
        "\n",
        "CREATE TABLE Course (\n",
        "    id     INTEGER NOT NULL PRIMARY KEY AUTOINCREMENT UNIQUE,\n",
        "    title  TEXT UNIQUE\n",
        ");\n",
        "\n",
        "CREATE TABLE Member (\n",
        "    user_id     INTEGER,\n",
        "    course_id   INTEGER,\n",
        "    role        INTEGER,\n",
        "    PRIMARY KEY (user_id, course_id)\n",
        ")\n",
        "''')\n",
        "\n",
        "fname = input('Enter file name: ')\n",
        "if len(fname) < 1:\n",
        "    fname = 'roster_data_sample.json'\n",
        "\n",
        "# [\n",
        "#   [ \"Charley\", \"si110\", 1 ],\n",
        "#   [ \"Mea\", \"si110\", 0 ],\n",
        "\n",
        "str_data = open(fname).read()\n",
        "json_data = json.loads(str_data)\n",
        "\n",
        "for entry in json_data:\n",
        "    name = entry[0]\n",
        "    title = entry[1]\n",
        "    role = entry[2]\n",
        "\n",
        "    print((name, title, role))\n",
        "\n",
        "    cur.execute('''INSERT OR IGNORE INTO User (name)\n",
        "        VALUES ( ? )''', (name,))\n",
        "    cur.execute('SELECT id FROM User WHERE name = ? ', (name,))\n",
        "    user_id = cur.fetchone()[0]\n",
        "\n",
        "    cur.execute('''INSERT OR IGNORE INTO Course (title)\n",
        "        VALUES ( ? )''', (title,))\n",
        "    cur.execute('SELECT id FROM Course WHERE title = ? ', (title,))\n",
        "    course_id = cur.fetchone()[0]\n",
        "\n",
        "    cur.execute('''INSERT OR REPLACE INTO Member\n",
        "        (user_id, course_id, role) VALUES ( ?, ?, ? )''',\n",
        "                (user_id, course_id, role))\n",
        "\n",
        "    conn.commit()\n",
        "\n",
        "# Query 1\n",
        "cur.execute('''\n",
        "SELECT User.name, Course.title, Member.role FROM \n",
        "    User JOIN Member JOIN Course \n",
        "    ON User.id = Member.user_id AND Member.course_id = Course.id\n",
        "    ORDER BY User.name DESC, Course.title DESC, Member.role DESC\n",
        "    LIMIT 2\n",
        "''')\n",
        "rows = cur.fetchall()\n",
        "for row in rows:\n",
        "    print(row)\n",
        "\n",
        "# Query 2\n",
        "cur.execute('''\n",
        "SELECT 'XYZZY' || hex(User.name || Course.title || Member.role) AS X FROM \n",
        "    User JOIN Member JOIN Course \n",
        "    ON User.id = Member.user_id AND Member.course_id = Course.id\n",
        "    ORDER BY X LIMIT 1\n",
        "''')\n",
        "row = cur.fetchone()\n",
        "print(row)\n",
        "\n",
        "cur.close()\n"
      ],
      "metadata": {
        "colab": {
          "base_uri": "https://localhost:8080/"
        },
        "id": "NzPHq2Op_Ysx",
        "outputId": "cb75cbe5-3cdf-426f-dd95-aed43278dc13"
      },
      "execution_count": 9,
      "outputs": [
        {
          "output_type": "stream",
          "name": "stdout",
          "text": [
            "Enter file name: roster_data.json\n",
            "('Mashhood', 'si110', 1)\n",
            "('Sol', 'si110', 0)\n",
            "('Montgomery', 'si110', 0)\n",
            "('Jaelee', 'si110', 0)\n",
            "('Prabhasees', 'si110', 0)\n",
            "('Yuanyu', 'si110', 0)\n",
            "('Angaly', 'si110', 0)\n",
            "('Steve', 'si110', 0)\n",
            "('Derin', 'si110', 0)\n",
            "('Shannan', 'si110', 0)\n",
            "('Suzanne', 'si110', 0)\n",
            "('Natascha', 'si110', 0)\n",
            "('Rohin', 'si110', 0)\n",
            "('Elwyn', 'si110', 0)\n",
            "('Margaret', 'si110', 0)\n",
            "('Leena', 'si110', 0)\n",
            "('Wen', 'si110', 0)\n",
            "('Agnieszka', 'si110', 0)\n",
            "('Fruin', 'si110', 0)\n",
            "('Saba', 'si110', 0)\n",
            "('Corinne', 'si110', 0)\n",
            "('Teejay', 'si110', 0)\n",
            "('Nieve', 'si110', 0)\n",
            "('Aled', 'si110', 0)\n",
            "('Vanni', 'si110', 0)\n",
            "('Orlando', 'si110', 0)\n",
            "('Taliesin', 'si110', 0)\n",
            "('Alexa', 'si110', 0)\n",
            "('Tailee', 'si110', 0)\n",
            "('Concetta', 'si110', 0)\n",
            "('Shawnpaul', 'si110', 0)\n",
            "('Mila', 'si110', 0)\n",
            "('Jarl', 'si110', 0)\n",
            "('Christie', 'si110', 0)\n",
            "('Danny', 'si110', 0)\n",
            "('Amalie', 'si110', 0)\n",
            "('Sofian', 'si110', 0)\n",
            "('Miya', 'si110', 0)\n",
            "('Jadyn', 'si110', 0)\n",
            "('Kirstin', 'si110', 0)\n",
            "('Kinza', 'si106', 1)\n",
            "('Annastacia', 'si106', 0)\n",
            "('Darien', 'si106', 0)\n",
            "('Calan', 'si106', 0)\n",
            "('Breogan', 'si106', 0)\n",
            "('Eidhan', 'si106', 0)\n",
            "('Aliya', 'si106', 0)\n",
            "('Kahlan', 'si106', 0)\n",
            "('Catherine', 'si106', 0)\n",
            "('Tymom', 'si106', 0)\n",
            "('Davie', 'si106', 0)\n",
            "('Cally', 'si106', 0)\n",
            "('Jared', 'si106', 0)\n",
            "('Eni', 'si106', 0)\n",
            "('Mirryn', 'si106', 0)\n",
            "('Aleeshmah', 'si106', 0)\n",
            "('Jerome', 'si106', 0)\n",
            "('Morran', 'si106', 0)\n",
            "('Daniela', 'si106', 0)\n",
            "('Mack', 'si106', 0)\n",
            "('Nico', 'si106', 0)\n",
            "('Amahle', 'si106', 0)\n",
            "('Skye', 'si106', 0)\n",
            "('Louie', 'si206', 1)\n",
            "('Carolyn', 'si206', 0)\n",
            "('Clodagh', 'si206', 0)\n",
            "('Bianca', 'si206', 0)\n",
            "('Nate', 'si206', 0)\n",
            "('Morven', 'si206', 0)\n",
            "('Matthias', 'si206', 0)\n",
            "('Colum', 'si206', 0)\n",
            "('Kieara', 'si206', 0)\n",
            "('Valentin', 'si206', 0)\n",
            "('Kayci', 'si206', 0)\n",
            "('Suman', 'si206', 0)\n",
            "('Taisha', 'si206', 0)\n",
            "('Jamie', 'si206', 0)\n",
            "('Celik', 'si206', 0)\n",
            "('Chala', 'si206', 0)\n",
            "('Annastacia', 'si206', 0)\n",
            "('Davie', 'si206', 0)\n",
            "('Kyren', 'si206', 0)\n",
            "('Kinsey', 'si206', 0)\n",
            "('Ali', 'si206', 0)\n",
            "('Adrien', 'si206', 0)\n",
            "('Makayla', 'si206', 0)\n",
            "('Leonard', 'si206', 0)\n",
            "('Khalan', 'si206', 0)\n",
            "('Jamieleigh', 'si206', 0)\n",
            "('Cadey', 'si206', 0)\n",
            "('Joshiah', 'si206', 0)\n",
            "('Anwen', 'si206', 0)\n",
            "('Martin', 'si206', 0)\n",
            "('Zander', 'si301', 1)\n",
            "('Muireann', 'si301', 0)\n",
            "('Cleone', 'si301', 0)\n",
            "('Giselle', 'si301', 0)\n",
            "('Eesa', 'si301', 0)\n",
            "('Tyrone', 'si301', 0)\n",
            "('Darcey', 'si301', 0)\n",
            "('Jarvi', 'si301', 0)\n",
            "('Shahd', 'si301', 0)\n",
            "('Oriane', 'si301', 0)\n",
            "('Teagan', 'si301', 0)\n",
            "('Linzi', 'si301', 0)\n",
            "('May', 'si301', 0)\n",
            "('Griffin', 'si301', 0)\n",
            "('Sandro', 'si301', 0)\n",
            "('Isabella', 'si301', 0)\n",
            "('Ailee', 'si301', 0)\n",
            "('Ilona', 'si301', 0)\n",
            "('Nerisse', 'si301', 0)\n",
            "('Abdulkadir', 'si301', 0)\n",
            "('Jonny', 'si301', 0)\n",
            "('Lumi', 'si301', 0)\n",
            "('Pamela', 'si301', 0)\n",
            "('Caedan', 'si301', 0)\n",
            "('Nureza', 'si301', 0)\n",
            "('Ahdia', 'si301', 0)\n",
            "('Shaye', 'si301', 0)\n",
            "('Roxana', 'si301', 0)\n",
            "('Beraka', 'si310', 1)\n",
            "('Annaleigh', 'si310', 0)\n",
            "('Korey', 'si310', 0)\n",
            "('Leah', 'si310', 0)\n",
            "('Khyralee', 'si310', 0)\n",
            "('Daigan', 'si310', 0)\n",
            "('Khajusta', 'si310', 0)\n",
            "('Arwa', 'si310', 0)\n",
            "('Marshall', 'si310', 0)\n",
            "('Yanick', 'si310', 0)\n",
            "('Stephen', 'si310', 0)\n",
            "('Nour', 'si310', 0)\n",
            "('Wasif', 'si310', 0)\n",
            "('Joash', 'si310', 0)\n",
            "('Nikash', 'si310', 0)\n",
            "('Nora', 'si310', 0)\n",
            "('Wabuya', 'si310', 0)\n",
            "('Mairead', 'si310', 0)\n",
            "('Iqra', 'si310', 0)\n",
            "('Amalie', 'si310', 0)\n",
            "('Roan', 'si310', 0)\n",
            "('Luis', 'si310', 0)\n",
            "('Dhara', 'si310', 0)\n",
            "('Cassy', 'si310', 0)\n",
            "('Maison', 'si310', 0)\n",
            "('Bayley', 'si310', 0)\n",
            "('Louanne', 'si310', 0)\n",
            "('Ines', 'si310', 0)\n",
            "('Sasha', 'si310', 0)\n",
            "('Jardine', 'si310', 0)\n",
            "('Atiya', 'si310', 0)\n",
            "('Kylan', 'si334', 1)\n",
            "('Jacki', 'si334', 0)\n",
            "('Name', 'si334', 0)\n",
            "('Davie', 'si334', 0)\n",
            "('Samuel', 'si334', 0)\n",
            "('Norea', 'si334', 0)\n",
            "('Roger', 'si334', 0)\n",
            "('Sanna', 'si334', 0)\n",
            "('Emlyn', 'si334', 0)\n",
            "('Joseph', 'si334', 0)\n",
            "('Annabella', 'si334', 0)\n",
            "('Finan', 'si334', 0)\n",
            "('Siranne', 'si334', 0)\n",
            "('Emir', 'si334', 0)\n",
            "('Skyla', 'si334', 0)\n",
            "('Finnan', 'si334', 0)\n",
            "('Reena', 'si334', 0)\n",
            "('Daniele', 'si334', 0)\n",
            "('Megan', 'si334', 0)\n",
            "('Xavier', 'si334', 0)\n",
            "('Gianluca', 'si334', 0)\n",
            "('Dawud', 'si363', 1)\n",
            "('Muhammad', 'si363', 0)\n",
            "('Kalvin', 'si363', 0)\n",
            "('Eoghain', 'si363', 0)\n",
            "('Airen', 'si363', 0)\n",
            "('VJay', 'si363', 0)\n",
            "('Ruslan', 'si363', 0)\n",
            "('Caileen', 'si363', 0)\n",
            "('Lilli', 'si363', 0)\n",
            "('Hafiza', 'si363', 0)\n",
            "('Charlee', 'si363', 0)\n",
            "('Connall', 'si363', 0)\n",
            "('Liyah', 'si363', 0)\n",
            "('Jersey', 'si363', 0)\n",
            "('Uchenna', 'si363', 0)\n",
            "('Nidhish', 'si363', 0)\n",
            "('Libbi', 'si363', 0)\n",
            "('Olufunke', 'si363', 0)\n",
            "('Sambrid', 'si363', 0)\n",
            "('Elsbeth', 'si363', 0)\n",
            "('Ayanna', 'si363', 0)\n",
            "('Macauley', 'si363', 0)\n",
            "('Mobeen', 'si363', 0)\n",
            "('Braden', 'si363', 0)\n",
            "('Ula', 'si363', 0)\n",
            "('Raegan', 'si363', 0)\n",
            "('Lukasz', 'si363', 0)\n",
            "('Caethan', 'si363', 0)\n",
            "('Kloe', 'si364', 1)\n",
            "('Gil', 'si364', 0)\n",
            "('Seighin', 'si364', 0)\n",
            "('Bilal', 'si364', 0)\n",
            "('Chandanpreet', 'si364', 0)\n",
            "('Imani', 'si364', 0)\n",
            "('Emon', 'si364', 0)\n",
            "('Rhuan', 'si364', 0)\n",
            "('Denton', 'si364', 0)\n",
            "('Hailie', 'si364', 0)\n",
            "('Lulu', 'si364', 0)\n",
            "('Koral', 'si364', 0)\n",
            "('Nawel', 'si364', 0)\n",
            "('Kate', 'si364', 0)\n",
            "('Joynul', 'si364', 0)\n",
            "('Sorley', 'si364', 0)\n",
            "('Anabelle', 'si364', 0)\n",
            "('Tyrnan', 'si364', 0)\n",
            "('Nana', 'si364', 0)\n",
            "('Alliah', 'si364', 0)\n",
            "('Farren', 'si364', 0)\n",
            "('Neeve', 'si364', 0)\n",
            "('Ashbey', 'si364', 0)\n",
            "('Kaylee', 'si364', 0)\n",
            "('Tayler', 'si364', 0)\n",
            "('Rahel', 'si364', 0)\n",
            "('Gianluca', 'si364', 0)\n",
            "('Fiona', 'si364', 0)\n",
            "('Freyja', 'si364', 0)\n",
            "('Amani', 'si364', 0)\n",
            "('Alec', 'si364', 0)\n",
            "('Arjuna', 'si364', 0)\n",
            "('Sol', 'si422', 1)\n",
            "('Teresa', 'si422', 0)\n",
            "('Axel', 'si422', 0)\n",
            "('Shadow', 'si422', 0)\n",
            "('Jayde', 'si422', 0)\n",
            "('Sarabeth', 'si422', 0)\n",
            "('Keren', 'si422', 0)\n",
            "('Somaya', 'si422', 0)\n",
            "('Deelan', 'si422', 0)\n",
            "('Heidar', 'si422', 0)\n",
            "('Reid', 'si422', 0)\n",
            "('Lumi', 'si422', 0)\n",
            "('Kaley', 'si422', 0)\n",
            "('Tadhg', 'si422', 0)\n",
            "('Dillan', 'si422', 0)\n",
            "('Zubair', 'si422', 0)\n",
            "('Stefany', 'si422', 0)\n",
            "('Ferre', 'si422', 0)\n",
            "('Minah', 'si430', 1)\n",
            "('Nadisa', 'si430', 0)\n",
            "('Lilliarna', 'si430', 0)\n",
            "('Dania', 'si430', 0)\n",
            "('Kadie', 'si430', 0)\n",
            "('Jordyn', 'si430', 0)\n",
            "('Kaci', 'si430', 0)\n",
            "('Norrie', 'si430', 0)\n",
            "('Kia', 'si430', 0)\n",
            "('Marwah', 'si430', 0)\n",
            "('Abdirahman', 'si430', 0)\n",
            "('Layan', 'si430', 0)\n",
            "('Xanthia', 'si430', 0)\n",
            "('Eonan', 'si430', 0)\n",
            "('Kenzie', 'si430', 0)\n",
            "('Edward', 'si430', 0)\n",
            "('Cator', 'si430', 0)\n",
            "('Neeve', 'si430', 0)\n",
            "('Shwetika', 'si430', 0)\n",
            "('Adain', 'si430', 0)\n",
            "('Rui', 'si430', 0)\n",
            "('Ruslan', 'si430', 0)\n",
            "('Thais', 'si430', 0)\n",
            "('Taegan', 'si430', 0)\n",
            "('Carson', 'si430', 0)\n",
            "('Qainat', 'si430', 0)\n",
            "('Dilya', 'si430', 0)\n",
            "('Kaya', 'si430', 0)\n",
            "('Simra', 'si430', 0)\n",
            "('Tre', 'si430', 0)\n",
            "('Charlee', 'si430', 0)\n",
            "('Shani', 'si430', 0)\n",
            "('Jeremy', 'si430', 0)\n",
            "('Zubair', 'si422', 0)\n",
            "('Zander', 'si301', 1)\n",
            "('XYZZY416264697261686D616E736934333030',)\n"
          ]
        }
      ]
    }
  ]
}